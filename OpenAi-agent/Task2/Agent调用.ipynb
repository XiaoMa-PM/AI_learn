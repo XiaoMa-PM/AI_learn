{
 "cells": [
  {
   "cell_type": "markdown",
   "id": "84a8585b",
   "metadata": {},
   "source": [
    "# Agent配置\n",
    "本节目的，学习三个最原始的组件：\n",
    "`Agents`，它是配备指令和工具的大型语言模型\n",
    "`Handoffs`，它允许代理将特定任务委派给其他代理\n",
    "`Guardrails`，它可以对输入到代理的内容进行验证\n",
    "\n",
    "## 多Agent的目的\n",
    "解决：\n",
    "- 专业化分工\n",
    "- 任务路由与分发：决策Agent->子Agent\n",
    "- 安全与合规:Agent->Guardrails\n",
    "\n",
    "## 三个核心组件\n",
    "1. `Agents`智能体：\n",
    "- 赋予特定指令`instructions`\n",
    "- 模型`model`的实例\n",
    "- 配备工具`tools`\n",
    "2. `Handoffs`任务交接；\n",
    "- 一种机制，允许代理将特定任务委派给其他代理\n",
    "- `handoff_description`：描述了任务交接的详细信息，包括任务的类型、目标和任何相关的上下文。相当于模型的能力简介/名片。\n",
    "- `Handoffs`：一个列表，写了其下属设有的其他`Agents`的`handoff_description`。\n",
    "3. `Guardrails`护栏：\n",
    "- 一种验证和过滤层，处理Agent的输入和输出检查\n",
    "- 例如：`input_guardrails`可以检查输入是否符合预期的格式或内容，不符合则进行拦截，不传入该Agent；而`output_guardrails`可以检查输出是否符合预期的格式或内容。"
   ]
  },
  {
   "cell_type": "markdown",
   "id": "9023d5a8",
   "metadata": {},
   "source": [
    "## 设计与实现（Design&Implementation）：构建一个多Agent系统\n",
    "\n",
    "### Step1:确定LLM（选择“大脑）\n",
    "如何使用`LitellmModel`来灵活配置Mistral或DeepSeek模型。这是为我们所有的Agent提供“思考能力”的基础。"
   ]
  },
  {
   "cell_type": "code",
   "execution_count": null,
   "id": "ea922e32",
   "metadata": {},
   "outputs": [],
   "source": [
    "# 代码作用：配置一个Mistral模型作为所有Agent的“大脑”\n",
    "from agents.extensions.models.litellm_model import LitellmModel\n",
    "import os\n",
    "from dotenv import load_dotenv\n",
    "# 加载环境变量\n",
    "load_dotenv()\n",
    "# 从环境变量中获取Mistral API密钥\n",
    "chat_model = \"mistral-small-latest\"\n",
    "base_url = \"https://api.mistral.ai/v1\"\n",
    "api_key = os.getenv('mistral_key')\n",
    "\n",
    "llm = LitellmModel(model=chat_model, api_key=api_key, base_url=base_url)"
   ]
  },
  {
   "cell_type": "code",
   "execution_count": null,
   "id": "479e6148",
   "metadata": {},
   "outputs": [],
   "source": [
    "# 使用DeepSeek模型\n",
    "chat_model = \"deepseek/deepseek-chat\"\n",
    "base_url = \"https://api.deepseek.com\"\n",
    "api_key = os.getenv('DEEPSEEK_API_KEY')"
   ]
  },
  {
   "cell_type": "markdown",
   "id": "34886a10",
   "metadata": {},
   "source": [
    "### Step2: 构建多Agent系统\n",
    "配置两个不同技能的Agent"
   ]
  },
  {
   "cell_type": "code",
   "execution_count": null,
   "id": "26255293",
   "metadata": {},
   "outputs": [],
   "source": [
    "from agents import Agent\n",
    "\n",
    "# 历史老师Agent\n",
    "history_tutor_agent = Agent(\n",
    "    name=\"History Tutor\",\n",
    "    # “名片”：告诉别人我擅长历史问题\n",
    "    handoff_description=\"Specialist agent for historical questions\",\n",
    "    # “工作手册”：详细指令\n",
    "    instructions=\"You provide assistance with historical queries. Explain important events and context clearly.\",\n",
    "    model=llm,\n",
    ")\n",
    "\n",
    "# 数学老师Agent\n",
    "math_tutor_agent = Agent(\n",
    "    name=\"Math Tutor\",\n",
    "    # “名片”：告诉别人我擅长数学问题\n",
    "    handoff_description=\"Specialist agent for math questions\",\n",
    "    # “工作手册”：详细指令\n",
    "    instructions=\"You provide help with math problems. Explain your reasoning at each step and include examples\",\n",
    "    model=llm,\n",
    ")"
   ]
  },
  {
   "cell_type": "markdown",
   "id": "0f66b5c3",
   "metadata": {},
   "source": [
    "### Step3: 构建“护栏”Agent\n",
    "定义安全规则"
   ]
  },
  {
   "cell_type": "code",
   "execution_count": null,
   "id": "a1c7a8c7",
   "metadata": {},
   "outputs": [],
   "source": [
    "from agents import GuardrailFunctionOutput, InputGuardrail, Agent, Runner\n",
    "from pydantic import BaseModel\n",
    "\n",
    "# 定义一个数据结构，用于规范“护栏”的输出\n",
    "class HomeworkOutput(BaseModel): # 一般写为GuardrailOutput\n",
    "    is_homework: bool  # 这个问题是不是作业？\n",
    "    reasoning: str     # 判断的理由是什么？\n",
    "\n",
    "# “保安”Agent，它的唯一任务就是判断问题类型\n",
    "guardrail_agent = Agent(\n",
    "    name=\"Guardrail check\",\n",
    "    instructions=\"Check if the user is asking about homework.\",\n",
    "    output_type=HomeworkOutput, # 强制它的输出符合HomeworkOutput格式\n",
    "    model=llm,\n",
    ")\n",
    "\n",
    "# 定义护栏的具体行为：一个异步函数\n",
    "async def homework_guardrail(ctx, agent, input_data):\n",
    "    # 1. 让“保安”Agent去判断输入的问题\n",
    "    result = await Runner.run(guardrail_agent, input_data, context=ctx.context) # context 是为了让“保安”Agent有上下文信息\n",
    "    # 2. 将结果解析为我们定义的HomeworkOutput格式\n",
    "    # 目的：LLM返回的虽然按照HomeworkOutput格式，但是它是一个字符串，我们需要将其转换为结构化的Python对象，而该函数的作用就是实现这一转换。\n",
    "    # - 解析：接受模型返回的原始字符串\n",
    "    # - 验证：使用HomeworkOutput作为模版，去验证解析结果符合预期格式\n",
    "    # - 转换：如果验证通过，将字符串转换为结构化的Python对象\n",
    "    final_output = result.final_output_as(HomeworkOutput)\n",
    "    # 3. 返回一个标准格式的输出\n",
    "    return GuardrailFunctionOutput(\n",
    "        output_info=final_output,\n",
    "        # 关键：如果 is_homework 为 False，就触发“警报”(tripwire_triggered=True)\n",
    "        tripwire_triggered=not final_output.is_homework,\n",
    "    )\n",
    "        # 此处的tripwire_triggered是做了一个bool计算，如果is_homework为False，那么tripwire_triggered就为True，则输出结果。"
   ]
  },
  {
   "cell_type": "markdown",
   "id": "e914cc74",
   "metadata": {},
   "source": [
    "### Step4: 构建“作业”Agent并且安装“护栏”\n",
    "创建的Agent相当于项目经理，告诉其可以管理哪些”Agent“，并且安装上“护栏”"
   ]
  },
  {
   "cell_type": "code",
   "execution_count": null,
   "id": "35508998",
   "metadata": {},
   "outputs": [],
   "source": [
    "triage_agent = Agent(\n",
    "    name=\"Triage Agent\",\n",
    "    instructions=\"You determine which agent to use based on the user's homework question\",\n",
    "    # “下属列表”：告诉它手下有历史和数学两位专家\n",
    "    handoffs=[history_tutor_agent, math_tutor_agent],\n",
    "    # “安保系统”：在处理任何输入前，先经过homework_guardrail的检查\n",
    "    input_guardrails=[\n",
    "        InputGuardrail(guardrail_function=homework_guardrail),\n",
    "    ],\n",
    "    model=llm,\n",
    ")"
   ]
  },
  {
   "cell_type": "markdown",
   "id": "cf26b41c",
   "metadata": {},
   "source": [
    "### 完整的执行流程\n",
    "当你运行 `await Runner.run`(triage_agent, \"一个问题\") 时，会发生以下事情：\n",
    "1. 护栏检查：`triage_agent`首先触发`homework_guardrail`。\n",
    "2. 保安出动：`guardrail_agent`被调用，判断“一个问题”是不是作业相关。\n",
    "3. 触发警报？\n",
    "- 是作业 (`is_homework: true`)：`tripwire_triggered`为`False`，护栏通过，流程继续。\n",
    "- 不是作业 (`is_homework: false`)：`tripwire_triggered`为`True`，护栏拦截，程序抛出`InputGuardrailTripwireTriggered`异常，流程终止。\n",
    "4. 经理决策：如果护栏通过，`triage_agent`会分析问题，并根据`history_tutor_agent`和`math_tutor_agent`的“名片”（`handoff_description`）来决定把任务**交接（Handoff）**给谁。\n",
    "5. 专家执行：被选中的专家Agent（比如`history_tutor_agent`）接收任务并生成最终答案。\n",
    "6. 返回结果：专家Agent的答案作为最终结果返回。\n",
    "\n",
    "## 代码优化与实践\n",
    "Jupyter运行：\n",
    "- 去掉`async def main()`和`if __name__ == \"__main__\"`部分\n",
    "- 直接在单元格顶层使用`await Runner.run(...)`即可。\n",
    "异常捕获：\n",
    "- 为了处理可能的异常，建议在单元格中使用`try-except`块来捕获`InputGuardrailTripwireTriggered`异常。"
   ]
  },
  {
   "cell_type": "code",
   "execution_count": null,
   "id": "a51b0ecd",
   "metadata": {},
   "outputs": [],
   "source": [
    "# Jupyter 运行\n",
    "result = await Runner.run(triage_agent, \"does drinking tee good for the body?\")\n",
    "print(result.final_output)"
   ]
  },
  {
   "cell_type": "code",
   "execution_count": null,
   "id": "ae09304f",
   "metadata": {},
   "outputs": [],
   "source": [
    "# 异常捕获\n",
    "from agents import Runner\n",
    "from agents.exceptions import InputGuardrailTripwireTriggered\n",
    "try:\n",
    "    result = await Runner.run(triage_agent, \"如何证明勾股定理？\")\n",
    "    print(\"结果:\", result.final_output)\n",
    "except InputGuardrailTripwireTriggered as e:\n",
    "    print(\"护栏触发：你的问题不是作业相关\")"
   ]
  },
  {
   "cell_type": "markdown",
   "id": "3c20d5a7",
   "metadata": {},
   "source": [
    "### 测试\n",
    "提不同的问题，让它回答，看看输出什么结果：\n",
    "```\n",
    "如何证明勾股定理？\n",
    "does drinking tee good for the body?\n",
    "who was the first president of the united states?\n",
    "what is life?\n",
    "```\n",
    "实际使用，该Agent很容易拦截了一些通用问题，并且定性为非Homework。\n",
    "个人修改了homework_guardrail函数，添加了调试日志，用于查看Guardrail的判断结果。"
   ]
  },
  {
   "cell_type": "code",
   "execution_count": null,
   "id": "91e21393",
   "metadata": {},
   "outputs": [],
   "source": [
    "async def homework_guardrail(ctx, agent, input_data):\n",
    "    result = await Runner.run(guardrail_agent, input_data, context=ctx.context)\n",
    "    final_output = result.final_output_as(HomeworkOutput)\n",
    "    # 调试日志\n",
    "    print(f\"[Guardrail] is_homework={final_output.is_homework} | reasoning={final_output.reasoning}\")\n",
    "    return GuardrailFunctionOutput(\n",
    "        output_info=final_output,\n",
    "        tripwire_triggered=not final_output.is_homework,\n",
    "    )"
   ]
  }
 ],
 "metadata": {
  "language_info": {
   "name": "python"
  }
 },
 "nbformat": 4,
 "nbformat_minor": 5
}
