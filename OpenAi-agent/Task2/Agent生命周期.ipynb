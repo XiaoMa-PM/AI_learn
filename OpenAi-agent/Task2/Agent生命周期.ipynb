{
 "cells": [
  {
   "cell_type": "markdown",
   "id": "1893ce1c",
   "metadata": {},
   "source": [
    "# Agent生命周期钩子（Hooks）\n",
    "\n",
    "## Motivation\n",
    "当多个Agent运行以及任务流转中，会有以下需求：\n",
    "- 调试需求：获取Task交接给哪个Agent？Agent在调用工具之前，它的“思考”是什么？工具返回的结果又是什么？\n",
    "- 监控和日志：我想记录下每个Agent的启动和结束时间，以及它处理了哪些任务，用于性能分析或审计。\n",
    "- 扩展功能：我希望在Agent开始处理任务前，预先加载一些特定的数据；或者在Agent结束后，将结果保存到数据库。\n",
    "\n",
    "它提供了一种非侵入式的方式，让你能够在Agent运行过程中的关键节点（比如开始、结束、调用工具、交接任务）“挂载”你自己的代码。\n",
    "简而言之，相当于业务流程的中的数据埋点作用，用户业务执行中出现的转化率断点。去发现Agent在运行过程中的一些问题，并且可以在问题发生时及时通知开发者。\n",
    "\n",
    "## Definition：Hooks的类型\n",
    "### AgentHooks\n",
    "\n",
    "### RunHooks\n",
    "\n",
    "## Design & Implementation：解析教程的代码"
   ]
  }
 ],
 "metadata": {
  "language_info": {
   "name": "python"
  }
 },
 "nbformat": 4,
 "nbformat_minor": 5
}
