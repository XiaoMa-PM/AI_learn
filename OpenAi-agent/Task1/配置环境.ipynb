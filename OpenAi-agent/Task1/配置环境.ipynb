{
 "cells": [
  {
   "cell_type": "code",
   "execution_count": null,
   "id": "c3737f1d",
   "metadata": {
    "vscode": {
     "languageId": "plaintext"
    }
   },
   "outputs": [],
   "source": []
  },
  {
   "cell_type": "markdown",
   "id": "374db4a6",
   "metadata": {},
   "source": [
    "创建一个文件夹agent-learning\n",
    "`cd agent-learning`\n",
    "加入该文件夹/在该文件夹打开终端"
   ]
  },
  {
   "cell_type": "code",
   "execution_count": null,
   "id": "e5fcb31b",
   "metadata": {
    "vscode": {
     "languageId": "bat"
    }
   },
   "outputs": [],
   "source": [
    "设置虚拟环境openai-agent\n",
    "python -m venv openai-agent\n",
    "\n",
    "# 如果是mac或者linux系统，激活虚拟环境：\n",
    "source openai-agent/bin/activate"
   ]
  }
 ],
 "metadata": {
  "language_info": {
   "name": "python"
  }
 },
 "nbformat": 4,
 "nbformat_minor": 5
}
