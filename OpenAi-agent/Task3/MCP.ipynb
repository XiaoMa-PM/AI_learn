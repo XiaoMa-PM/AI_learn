{
 "cells": [
  {
   "cell_type": "markdown",
   "id": "d7eb1677",
   "metadata": {},
   "source": [
    "# MCP\n"
   ]
  }
 ],
 "metadata": {
  "language_info": {
   "name": "python"
  }
 },
 "nbformat": 4,
 "nbformat_minor": 5
}
